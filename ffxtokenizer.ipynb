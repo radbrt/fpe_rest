{
 "cells": [
  {
   "cell_type": "code",
   "execution_count": 4,
   "metadata": {},
   "outputs": [],
   "source": [
    "import string"
   ]
  },
  {
   "cell_type": "code",
   "execution_count": 7,
   "metadata": {},
   "outputs": [],
   "source": [
    "alphabet = string.digits+string.ascii_letters"
   ]
  },
  {
   "cell_type": "code",
   "execution_count": 8,
   "metadata": {},
   "outputs": [
    {
     "data": {
      "text/plain": [
       "'0123456789abcdefghijklmnopqrstuvwxyzABCDEFGHIJKLMNOPQRSTUVWXYZ'"
      ]
     },
     "execution_count": 8,
     "metadata": {},
     "output_type": "execute_result"
    }
   ],
   "source": [
    "alphabet"
   ]
  },
  {
   "cell_type": "code",
   "execution_count": 9,
   "metadata": {},
   "outputs": [],
   "source": []
  },
  {
   "cell_type": "code",
   "execution_count": 182,
   "metadata": {},
   "outputs": [],
   "source": [
    "def ffx_any(txt):\n",
    "    key = b'supersecret'\n",
    "    ffx = pyffx.String(key, \n",
    "        alphabet=string.ascii_letters+string.digits, \n",
    "        length=len(txt))\n",
    "    return ffx.encrypt(txt)\n",
    "\n",
    "def encrypt_text(txt):\n",
    "    encryptsplit = list(txt)\n",
    "    i = re.finditer('([A-z0-9]+)+', txt)\n",
    "    something = [(m.start(0), m.end()) for m in i]\n",
    "    for element in something:\n",
    "        encryptsplit[element[0]: element[1]] = list(ffx_any(txt[element[0]: element[1]]))\n",
    "    return(''.join(encryptsplit))\n"
   ]
  },
  {
   "cell_type": "code",
   "execution_count": 152,
   "metadata": {},
   "outputs": [],
   "source": [
    "def ffx_decrypt_any(txt):\n",
    "    key = b'supersecret'\n",
    "    ffx = pyffx.String(key, \n",
    "        alphabet=string.ascii_letters+string.digits, \n",
    "        length=len(txt))\n",
    "    return ffx.decrypt(txt)\n",
    "\n",
    "def decrypt_text(txt):\n",
    "    encryptsplit = list(txt)\n",
    "    i = re.finditer('([A-z0-9]+)+', txt)\n",
    "    something = [(m.start(0), m.end()) for m in i]\n",
    "    for element in something:\n",
    "        encryptsplit[element[0]: element[1]] = list(ffx_decrypt_any(txt[element[0]: element[1]]))\n",
    "    return(''.join(encryptsplit))\n",
    "\n"
   ]
  },
  {
   "cell_type": "code",
   "execution_count": null,
   "metadata": {},
   "outputs": [],
   "source": []
  },
  {
   "cell_type": "code",
   "execution_count": 177,
   "metadata": {},
   "outputs": [],
   "source": [
    "navn1 = 'Henrik (Henry) Epleslang Jøndal 👍'\n",
    "navn2 = 'Jøndal, Henrik'"
   ]
  },
  {
   "cell_type": "code",
   "execution_count": 178,
   "metadata": {},
   "outputs": [
    {
     "data": {
      "text/plain": [
       "'4dNBiX (DQDqv) AWTCBEjvx føoC5P 👍'"
      ]
     },
     "execution_count": 178,
     "metadata": {},
     "output_type": "execute_result"
    }
   ],
   "source": [
    "navn1_kryptert = encrypt_text(navn1)\n",
    "navn1_kryptert"
   ]
  },
  {
   "cell_type": "code",
   "execution_count": 179,
   "metadata": {},
   "outputs": [
    {
     "data": {
      "text/plain": [
       "'føoC5P, 4dNBiX'"
      ]
     },
     "execution_count": 179,
     "metadata": {},
     "output_type": "execute_result"
    }
   ],
   "source": [
    "navn2_kryptert = encrypt_text(navn2)\n",
    "navn2_kryptert"
   ]
  },
  {
   "cell_type": "code",
   "execution_count": 180,
   "metadata": {},
   "outputs": [
    {
     "data": {
      "text/plain": [
       "'Henrik (Henry) Epleslang Jøndal 👍'"
      ]
     },
     "execution_count": 180,
     "metadata": {},
     "output_type": "execute_result"
    }
   ],
   "source": [
    "decrypt_text(navn1_kryptert)"
   ]
  },
  {
   "cell_type": "code",
   "execution_count": 181,
   "metadata": {},
   "outputs": [
    {
     "data": {
      "text/plain": [
       "'Jøndal, Henrik'"
      ]
     },
     "execution_count": 181,
     "metadata": {},
     "output_type": "execute_result"
    }
   ],
   "source": [
    "decrypt_text(navn2_kryptert)"
   ]
  },
  {
   "cell_type": "code",
   "execution_count": null,
   "metadata": {},
   "outputs": [],
   "source": []
  },
  {
   "cell_type": "code",
   "execution_count": null,
   "metadata": {},
   "outputs": [],
   "source": []
  },
  {
   "cell_type": "code",
   "execution_count": 156,
   "metadata": {},
   "outputs": [
    {
     "data": {
      "text/plain": [
       "'låR ÅR'"
      ]
     },
     "execution_count": 156,
     "metadata": {},
     "output_type": "execute_result"
    }
   ],
   "source": [
    "crypted_text = encrypt_text(\"Pål Ål\")\n",
    "crypted_text"
   ]
  },
  {
   "cell_type": "code",
   "execution_count": 157,
   "metadata": {},
   "outputs": [
    {
     "data": {
      "text/plain": [
       "'Pål Ål'"
      ]
     },
     "execution_count": 157,
     "metadata": {},
     "output_type": "execute_result"
    }
   ],
   "source": [
    "decrypt_text(crypted_text)"
   ]
  },
  {
   "cell_type": "code",
   "execution_count": null,
   "metadata": {},
   "outputs": [],
   "source": []
  },
  {
   "cell_type": "code",
   "execution_count": null,
   "metadata": {},
   "outputs": [],
   "source": []
  }
 ],
 "metadata": {
  "kernelspec": {
   "display_name": "Python 3",
   "language": "python",
   "name": "python3"
  },
  "language_info": {
   "codemirror_mode": {
    "name": "ipython",
    "version": 3
   },
   "file_extension": ".py",
   "mimetype": "text/x-python",
   "name": "python",
   "nbconvert_exporter": "python",
   "pygments_lexer": "ipython3",
   "version": "3.7.3"
  }
 },
 "nbformat": 4,
 "nbformat_minor": 2
}
