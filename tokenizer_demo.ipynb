{
 "cells": [
  {
   "cell_type": "markdown",
   "metadata": {},
   "source": [
    "# Demo av tokenisert kryptering\n",
    "\n",
    "Nok en gang bruker jeg pyfx for å demonstrere en mulighet, men dette bør ikke tolkes som at jeg foreslår pyffx."
   ]
  },
  {
   "cell_type": "code",
   "execution_count": 1,
   "metadata": {},
   "outputs": [],
   "source": [
    "import string\n",
    "import pyffx\n",
    "import re"
   ]
  },
  {
   "cell_type": "markdown",
   "metadata": {},
   "source": [
    "Definerer noen funksjoner for kryptering og dekryptering"
   ]
  },
  {
   "cell_type": "code",
   "execution_count": 2,
   "metadata": {},
   "outputs": [],
   "source": [
    "def ffx_any(txt):\n",
    "    key = b'supersecret'\n",
    "    ffx = pyffx.String(key, \n",
    "        alphabet=string.ascii_letters+string.digits, \n",
    "        length=len(txt))\n",
    "    return ffx.encrypt(txt)\n",
    "\n",
    "def encrypt_text(txt):\n",
    "    encryptsplit = list(txt)\n",
    "    i = re.finditer('([A-z0-9]+)+', txt)\n",
    "    something = [(m.start(0), m.end()) for m in i]\n",
    "    for element in something:\n",
    "        encryptsplit[element[0]: element[1]] = list(ffx_any(txt[element[0]: element[1]]))\n",
    "    return(''.join(encryptsplit))\n",
    "\n",
    "\n",
    "def ffx_decrypt_any(txt):\n",
    "    key = b'supersecret'\n",
    "    ffx = pyffx.String(key, \n",
    "        alphabet=string.ascii_letters+string.digits, \n",
    "        length=len(txt))\n",
    "    return ffx.decrypt(txt)\n",
    "\n",
    "def decrypt_text(txt):\n",
    "    encryptsplit = list(txt)\n",
    "    i = re.finditer('([A-z0-9]+)+', txt)\n",
    "    something = [(m.start(0), m.end()) for m in i]\n",
    "    for element in something:\n",
    "        encryptsplit[element[0]: element[1]] = list(ffx_decrypt_any(txt[element[0]: element[1]]))\n",
    "    return(''.join(encryptsplit))\n",
    "\n"
   ]
  },
  {
   "cell_type": "markdown",
   "metadata": {},
   "source": [
    "Her har vi to navn, på potensielt samme person. Det ene navnet inneholder et kallenavn i parantes, og en emoji på slutten. Tokeniseringen gjør at vi kan kryptere ord for ord. Dermed blir de krypterte versjonene av fornavnene og etternavnene like."
   ]
  },
  {
   "cell_type": "code",
   "execution_count": 3,
   "metadata": {},
   "outputs": [],
   "source": [
    "navn1 = 'Henrik (Henry) Epleslang Jøndal 👍'\n",
    "navn2 = 'Jøndal, Henrik'"
   ]
  },
  {
   "cell_type": "code",
   "execution_count": 4,
   "metadata": {},
   "outputs": [
    {
     "name": "stdout",
     "output_type": "stream",
     "text": [
      "4dNBiX (DQDqv) AWTCBEjvx føoC5P 👍\n",
      "føoC5P, 4dNBiX\n"
     ]
    }
   ],
   "source": [
    "navn1_kryptert = encrypt_text(navn1)\n",
    "navn2_kryptert = encrypt_text(navn2)\n",
    "print(navn1_kryptert)\n",
    "print(navn2_kryptert)"
   ]
  },
  {
   "cell_type": "markdown",
   "metadata": {},
   "source": [
    "Vi kan også dekryptere veldig lett."
   ]
  },
  {
   "cell_type": "code",
   "execution_count": 5,
   "metadata": {},
   "outputs": [
    {
     "data": {
      "text/plain": [
       "'Henrik (Henry) Epleslang Jøndal 👍'"
      ]
     },
     "execution_count": 5,
     "metadata": {},
     "output_type": "execute_result"
    }
   ],
   "source": [
    "decrypt_text(navn1_kryptert)"
   ]
  },
  {
   "cell_type": "code",
   "execution_count": 6,
   "metadata": {},
   "outputs": [
    {
     "data": {
      "text/plain": [
       "'Jøndal, Henrik'"
      ]
     },
     "execution_count": 6,
     "metadata": {},
     "output_type": "execute_result"
    }
   ],
   "source": [
    "decrypt_text(navn2_kryptert)"
   ]
  },
  {
   "cell_type": "code",
   "execution_count": null,
   "metadata": {},
   "outputs": [],
   "source": []
  },
  {
   "cell_type": "code",
   "execution_count": null,
   "metadata": {},
   "outputs": [],
   "source": []
  },
  {
   "cell_type": "code",
   "execution_count": 7,
   "metadata": {},
   "outputs": [
    {
     "data": {
      "text/plain": [
       "'låR ÅR'"
      ]
     },
     "execution_count": 7,
     "metadata": {},
     "output_type": "execute_result"
    }
   ],
   "source": [
    "crypted_text = encrypt_text(\"Pål Ål\")\n",
    "crypted_text"
   ]
  },
  {
   "cell_type": "code",
   "execution_count": 8,
   "metadata": {},
   "outputs": [
    {
     "data": {
      "text/plain": [
       "'Pål Ål'"
      ]
     },
     "execution_count": 8,
     "metadata": {},
     "output_type": "execute_result"
    }
   ],
   "source": [
    "decrypt_text(crypted_text)"
   ]
  },
  {
   "cell_type": "markdown",
   "metadata": {},
   "source": [
    "## Andre encodinger\n",
    "\n",
    "I utgangspunktet fungerer de fleste FF1 implementasjoner kun på ASCII. Men akkurat pyffx klarer å støtte veldig mye rart av alfabet - i praksis må vi dog vite hvilket tegnsett vi skal kryptere. Her er samme kryptering, men av navn på cherokee-høvdinger skrevet i cherokee alfabetet (som er en del av unicode)."
   ]
  },
  {
   "cell_type": "code",
   "execution_count": 9,
   "metadata": {},
   "outputs": [],
   "source": [
    "def ffx_cherokee(txt):\n",
    "    key = b'supersecret'\n",
    "    ffx = pyffx.String(key, \n",
    "        alphabet='ᎠᎡᎢᎣᎤᎥᎦᎧᎨᎩᎪᎫᎬᎭᎮᎯᎰᎱᎲᎳᎴᎵᎶᎷᎸᎹᎺᎻᎼᎽᎾᎿᏀᏁᏂᏃᏄᏅᏆᏇᏈᏉᏊᏋᏌᏍᏎᏏᏐᏑᏒᏓᏔᏕᏖᏗᏘᏙᏚᏛᏜᏝᏞᏟᏠᏡᏢᏣᏤᏥᏦᏧᏨᏩᏪᏫᏬᏭᏮᏯᏰᏱᏲᏳᏴ', \n",
    "        length=len(txt))\n",
    "    return ffx.encrypt(txt)\n",
    "\n",
    "def encrypt_cherokee(txt):\n",
    "    encryptsplit = list(txt)\n",
    "    i = re.finditer('([ᎠᎡᎢᎣᎤᎥᎦᎧᎨᎩᎪᎫᎬᎭᎮᎯᎰᎱᎲᎳᎴᎵᎶᎷᎸᎹᎺᎻᎼᎽᎾᎿᏀᏁᏂᏃᏄᏅᏆᏇᏈᏉᏊᏋᏌᏍᏎᏏᏐᏑᏒᏓᏔᏕᏖᏗᏘᏙᏚᏛᏜᏝᏞᏟᏠᏡᏢᏣᏤᏥᏦᏧᏨᏩᏪᏫᏬᏭᏮᏯᏰᏱᏲᏳᏴ]+)+', txt)\n",
    "    something = [(m.start(0), m.end()) for m in i]\n",
    "    for element in something:\n",
    "        encryptsplit[element[0]: element[1]] = list(ffx_cherokee(txt[element[0]: element[1]]))\n",
    "    return(''.join(encryptsplit))\n",
    "\n",
    "def ffx_decrypt_any_cherokee(txt):\n",
    "    key = b'supersecret'\n",
    "    ffx = pyffx.String(key, \n",
    "        alphabet='ᎠᎡᎢᎣᎤᎥᎦᎧᎨᎩᎪᎫᎬᎭᎮᎯᎰᎱᎲᎳᎴᎵᎶᎷᎸᎹᎺᎻᎼᎽᎾᎿᏀᏁᏂᏃᏄᏅᏆᏇᏈᏉᏊᏋᏌᏍᏎᏏᏐᏑᏒᏓᏔᏕᏖᏗᏘᏙᏚᏛᏜᏝᏞᏟᏠᏡᏢᏣᏤᏥᏦᏧᏨᏩᏪᏫᏬᏭᏮᏯᏰᏱᏲᏳᏴ', \n",
    "        length=len(txt))\n",
    "    return ffx.decrypt(txt)\n",
    "\n",
    "def decrypt_cherokee(txt):\n",
    "    encryptsplit = list(txt)\n",
    "    i = re.finditer('([ᎠᎡᎢᎣᎤᎥᎦᎧᎨᎩᎪᎫᎬᎭᎮᎯᎰᎱᎲᎳᎴᎵᎶᎷᎸᎹᎺᎻᎼᎽᎾᎿᏀᏁᏂᏃᏄᏅᏆᏇᏈᏉᏊᏋᏌᏍᏎᏏᏐᏑᏒᏓᏔᏕᏖᏗᏘᏙᏚᏛᏜᏝᏞᏟᏠᏡᏢᏣᏤᏥᏦᏧᏨᏩᏪᏫᏬᏭᏮᏯᏰᏱᏲᏳᏴ]+)+', txt)\n",
    "    something = [(m.start(0), m.end()) for m in i]\n",
    "    for element in something:\n",
    "        encryptsplit[element[0]: element[1]] = list(ffx_decrypt_any_cherokee(txt[element[0]: element[1]]))\n",
    "    return(''.join(encryptsplit))"
   ]
  },
  {
   "cell_type": "code",
   "execution_count": 13,
   "metadata": {},
   "outputs": [
    {
     "name": "stdout",
     "output_type": "stream",
     "text": [
      "Encrypted names:\n",
      "ᏟᏃᎥᏯᎧᏘᏬ (ᏄᎮᏎᏦᏦᎷᎵᎤ) ᎳᏴᎰᎾᏄᏮ ᏢᏎᏲᏦ 🌎\n",
      "ᏄᎮᏎᏦᏦᎷᎵᎤ 🪐 ᏢᏎᏲᏦ\n",
      "\n",
      "Decrypted names:\n",
      "ᎢᏣᎵᏍᎠᏁᏗ (ᎤᎵᎩᏳᏍᎠᏅᏁ) ᎤᏂᏰᏍᎢᏱ ᎾᏍᎢᏯ 🌎\n",
      "ᎤᎵᎩᏳᏍᎠᏅᏁ 🪐 ᎾᏍᎢᏯ\n"
     ]
    }
   ],
   "source": [
    "chief1 = 'ᎢᏣᎵᏍᎠᏁᏗ (ᎤᎵᎩᏳᏍᎠᏅᏁ) ᎤᏂᏰᏍᎢᏱ ᎾᏍᎢᏯ 🌎'\n",
    "chief2 = 'ᎤᎵᎩᏳᏍᎠᏅᏁ 🪐 ᎾᏍᎢᏯ'\n",
    "\n",
    "print(\"Encrypted names:\")\n",
    "encrypted_chief1 = encrypt_cherokee(chief1)\n",
    "print(encrypted_chief1)\n",
    "\n",
    "encrypted_chief2 = encrypt_cherokee(chief2)\n",
    "print(encrypted_chief2)\n",
    "\n",
    "\n",
    "print(\"\\nDecrypted names:\")\n",
    "decrypted_chief1 = decrypt_cherokee(encrypted_chief1)\n",
    "print(decrypted_chief1)\n",
    "\n",
    "decrypted_chief2 = decrypt_cherokee(encrypted_chief2)\n",
    "print(decrypted_chief2)"
   ]
  },
  {
   "cell_type": "code",
   "execution_count": null,
   "metadata": {},
   "outputs": [],
   "source": []
  }
 ],
 "metadata": {
  "kernelspec": {
   "display_name": "Python 3",
   "language": "python",
   "name": "python3"
  },
  "language_info": {
   "codemirror_mode": {
    "name": "ipython",
    "version": 3
   },
   "file_extension": ".py",
   "mimetype": "text/x-python",
   "name": "python",
   "nbconvert_exporter": "python",
   "pygments_lexer": "ipython3",
   "version": "3.7.3"
  }
 },
 "nbformat": 4,
 "nbformat_minor": 2
}
